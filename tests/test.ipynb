{
 "cells": [
  {
   "cell_type": "code",
   "execution_count": 3,
   "metadata": {},
   "outputs": [],
   "source": [
    "from pathlib import Path\n",
    "import os\n",
    "from openai import OpenAI\n",
    "import logging\n",
    "from datetime import date\n",
    "import pandas as pd\n",
    "import numpy as np\n",
    "import json\n",
    "\n",
    "\n",
    "PROJ_DIR = Path(\"/Users/ashikawaharuki/Desktop/research/TDB/test/99_system\")\n",
    "DATA_DIR = PROJ_DIR/\"data\"\n",
    "TABLES_DIR = DATA_DIR/\"tables\"\n",
    "PROMPT_DIR = DATA_DIR/\"prompt\""
   ]
  },
  {
   "cell_type": "code",
   "execution_count": 9,
   "metadata": {},
   "outputs": [
    {
     "data": {
      "text/plain": [
       "2"
      ]
     },
     "execution_count": 9,
     "metadata": {},
     "output_type": "execute_result"
    }
   ],
   "source": [
    "array = np.array([\"nj\", \"aa\", \"nj\", None])\n",
    "np.unique(array).size\n"
   ]
  },
  {
   "cell_type": "code",
   "execution_count": 8,
   "metadata": {},
   "outputs": [
    {
     "data": {
      "text/html": [
       "<div>\n",
       "<style scoped>\n",
       "    .dataframe tbody tr th:only-of-type {\n",
       "        vertical-align: middle;\n",
       "    }\n",
       "\n",
       "    .dataframe tbody tr th {\n",
       "        vertical-align: top;\n",
       "    }\n",
       "\n",
       "    .dataframe thead th {\n",
       "        text-align: right;\n",
       "    }\n",
       "</style>\n",
       "<table border=\"1\" class=\"dataframe\">\n",
       "  <thead>\n",
       "    <tr style=\"text-align: right;\">\n",
       "      <th></th>\n",
       "      <th>Order Date</th>\n",
       "      <th>Purchase Price Per Unit</th>\n",
       "      <th>Quantity</th>\n",
       "      <th>Shipping Address State</th>\n",
       "      <th>Title</th>\n",
       "      <th>ASIN/ISBN (Product Code)</th>\n",
       "      <th>Category</th>\n",
       "      <th>Survey ResponseID</th>\n",
       "    </tr>\n",
       "  </thead>\n",
       "  <tbody>\n",
       "    <tr>\n",
       "      <th>4352</th>\n",
       "      <td>2020-08-10</td>\n",
       "      <td>8.98</td>\n",
       "      <td>1.0</td>\n",
       "      <td>MA</td>\n",
       "      <td>Oh, the Places You'll Go!</td>\n",
       "      <td>0679805273</td>\n",
       "      <td>ABIS_BOOK</td>\n",
       "      <td>R_0BrMxYYMHVMOBEJ</td>\n",
       "    </tr>\n",
       "    <tr>\n",
       "      <th>4353</th>\n",
       "      <td>2020-08-10</td>\n",
       "      <td>4.68</td>\n",
       "      <td>1.0</td>\n",
       "      <td>MA</td>\n",
       "      <td>Giraffes Can't Dance</td>\n",
       "      <td>0545392551</td>\n",
       "      <td>ABIS_BOOK</td>\n",
       "      <td>R_0BrMxYYMHVMOBEJ</td>\n",
       "    </tr>\n",
       "    <tr>\n",
       "      <th>4354</th>\n",
       "      <td>2020-08-10</td>\n",
       "      <td>5.67</td>\n",
       "      <td>1.0</td>\n",
       "      <td>MA</td>\n",
       "      <td>Brown Bear, Brown Bear, What Do You See?</td>\n",
       "      <td>0805047905</td>\n",
       "      <td>ABIS_BOOK</td>\n",
       "      <td>R_0BrMxYYMHVMOBEJ</td>\n",
       "    </tr>\n",
       "    <tr>\n",
       "      <th>4355</th>\n",
       "      <td>2020-08-10</td>\n",
       "      <td>27.95</td>\n",
       "      <td>1.0</td>\n",
       "      <td>MA</td>\n",
       "      <td>Safe and Sound Crib Mattress Protector (2 Pack...</td>\n",
       "      <td>B07PJY9Q3C</td>\n",
       "      <td>MATTRESS_COVER</td>\n",
       "      <td>R_0BrMxYYMHVMOBEJ</td>\n",
       "    </tr>\n",
       "    <tr>\n",
       "      <th>4356</th>\n",
       "      <td>2020-12-13</td>\n",
       "      <td>8.99</td>\n",
       "      <td>1.0</td>\n",
       "      <td>MA</td>\n",
       "      <td>Sassy Rain Shower Bath Ball STEM Bath Toy, 6+ ...</td>\n",
       "      <td>B07VQ92YLB</td>\n",
       "      <td>BABY_PRODUCT</td>\n",
       "      <td>R_0BrMxYYMHVMOBEJ</td>\n",
       "    </tr>\n",
       "    <tr>\n",
       "      <th>...</th>\n",
       "      <td>...</td>\n",
       "      <td>...</td>\n",
       "      <td>...</td>\n",
       "      <td>...</td>\n",
       "      <td>...</td>\n",
       "      <td>...</td>\n",
       "      <td>...</td>\n",
       "      <td>...</td>\n",
       "    </tr>\n",
       "    <tr>\n",
       "      <th>1850711</th>\n",
       "      <td>2021-04-01</td>\n",
       "      <td>20.75</td>\n",
       "      <td>1.0</td>\n",
       "      <td>MA</td>\n",
       "      <td>50 Feather (Yellow Label) Razor Blades Platinu...</td>\n",
       "      <td>B08P5K9GMJ</td>\n",
       "      <td>RAZOR_BLADE_CARTRIDGE</td>\n",
       "      <td>R_zfqnsBzlOAKibzb</td>\n",
       "    </tr>\n",
       "    <tr>\n",
       "      <th>1850712</th>\n",
       "      <td>2021-04-01</td>\n",
       "      <td>6.99</td>\n",
       "      <td>1.0</td>\n",
       "      <td>MA</td>\n",
       "      <td>Tanner's Tasty Paste Vanilla Bling - Anticavit...</td>\n",
       "      <td>B015ZRTHVA</td>\n",
       "      <td>TOOTH_CLEANING_AGENT</td>\n",
       "      <td>R_zfqnsBzlOAKibzb</td>\n",
       "    </tr>\n",
       "    <tr>\n",
       "      <th>1850713</th>\n",
       "      <td>2021-04-14</td>\n",
       "      <td>15.99</td>\n",
       "      <td>1.0</td>\n",
       "      <td>MA</td>\n",
       "      <td>Sinland Microfiber Cleaning Cloth Dish Cloth K...</td>\n",
       "      <td>B00QGCXPRG</td>\n",
       "      <td>TOWEL</td>\n",
       "      <td>R_zfqnsBzlOAKibzb</td>\n",
       "    </tr>\n",
       "    <tr>\n",
       "      <th>1850714</th>\n",
       "      <td>2021-05-22</td>\n",
       "      <td>6.99</td>\n",
       "      <td>4.0</td>\n",
       "      <td>MA</td>\n",
       "      <td>Tanner's Tasty Paste Vanilla Bling - Anticavit...</td>\n",
       "      <td>B015ZRTHVA</td>\n",
       "      <td>TOOTH_CLEANING_AGENT</td>\n",
       "      <td>R_zfqnsBzlOAKibzb</td>\n",
       "    </tr>\n",
       "    <tr>\n",
       "      <th>1850715</th>\n",
       "      <td>2021-12-01</td>\n",
       "      <td>6.99</td>\n",
       "      <td>4.0</td>\n",
       "      <td>MA</td>\n",
       "      <td>Tanner's Tasty Paste Vanilla Bling - Anticavit...</td>\n",
       "      <td>B015ZRTHVA</td>\n",
       "      <td>TOOTH_CLEANING_AGENT</td>\n",
       "      <td>R_zfqnsBzlOAKibzb</td>\n",
       "    </tr>\n",
       "  </tbody>\n",
       "</table>\n",
       "<p>44503 rows × 8 columns</p>\n",
       "</div>"
      ],
      "text/plain": [
       "         Order Date  Purchase Price Per Unit  Quantity Shipping Address State  \\\n",
       "4352     2020-08-10                     8.98       1.0                     MA   \n",
       "4353     2020-08-10                     4.68       1.0                     MA   \n",
       "4354     2020-08-10                     5.67       1.0                     MA   \n",
       "4355     2020-08-10                    27.95       1.0                     MA   \n",
       "4356     2020-12-13                     8.99       1.0                     MA   \n",
       "...             ...                      ...       ...                    ...   \n",
       "1850711  2021-04-01                    20.75       1.0                     MA   \n",
       "1850712  2021-04-01                     6.99       1.0                     MA   \n",
       "1850713  2021-04-14                    15.99       1.0                     MA   \n",
       "1850714  2021-05-22                     6.99       4.0                     MA   \n",
       "1850715  2021-12-01                     6.99       4.0                     MA   \n",
       "\n",
       "                                                     Title  \\\n",
       "4352                           Oh, the Places You'll Go!     \n",
       "4353                                  Giraffes Can't Dance   \n",
       "4354              Brown Bear, Brown Bear, What Do You See?   \n",
       "4355     Safe and Sound Crib Mattress Protector (2 Pack...   \n",
       "4356     Sassy Rain Shower Bath Ball STEM Bath Toy, 6+ ...   \n",
       "...                                                    ...   \n",
       "1850711  50 Feather (Yellow Label) Razor Blades Platinu...   \n",
       "1850712  Tanner's Tasty Paste Vanilla Bling - Anticavit...   \n",
       "1850713  Sinland Microfiber Cleaning Cloth Dish Cloth K...   \n",
       "1850714  Tanner's Tasty Paste Vanilla Bling - Anticavit...   \n",
       "1850715  Tanner's Tasty Paste Vanilla Bling - Anticavit...   \n",
       "\n",
       "        ASIN/ISBN (Product Code)               Category  Survey ResponseID  \n",
       "4352                  0679805273              ABIS_BOOK  R_0BrMxYYMHVMOBEJ  \n",
       "4353                  0545392551              ABIS_BOOK  R_0BrMxYYMHVMOBEJ  \n",
       "4354                  0805047905              ABIS_BOOK  R_0BrMxYYMHVMOBEJ  \n",
       "4355                  B07PJY9Q3C         MATTRESS_COVER  R_0BrMxYYMHVMOBEJ  \n",
       "4356                  B07VQ92YLB           BABY_PRODUCT  R_0BrMxYYMHVMOBEJ  \n",
       "...                          ...                    ...                ...  \n",
       "1850711               B08P5K9GMJ  RAZOR_BLADE_CARTRIDGE  R_zfqnsBzlOAKibzb  \n",
       "1850712               B015ZRTHVA   TOOTH_CLEANING_AGENT  R_zfqnsBzlOAKibzb  \n",
       "1850713               B00QGCXPRG                  TOWEL  R_zfqnsBzlOAKibzb  \n",
       "1850714               B015ZRTHVA   TOOTH_CLEANING_AGENT  R_zfqnsBzlOAKibzb  \n",
       "1850715               B015ZRTHVA   TOOTH_CLEANING_AGENT  R_zfqnsBzlOAKibzb  \n",
       "\n",
       "[44503 rows x 8 columns]"
      ]
     },
     "execution_count": 8,
     "metadata": {},
     "output_type": "execute_result"
    }
   ],
   "source": [
    "df = pd.read_csv(TABLES_DIR/\"amazon-purchases.csv\")\n",
    "df\n",
    "\n",
    "def filter_df_by_parents(panrents, df):\n",
    "    condition = True\n",
    "    for k, v in panrents.items():\n",
    "        condition &= (df[k]==v)\n",
    "    return df[condition]\n",
    "\n",
    "df_ = filter_df_by_parents(panrents={\"Shipping Address State\":\"MA\"}, df=df)\n",
    "df_"
   ]
  },
  {
   "cell_type": "code",
   "execution_count": 3,
   "metadata": {},
   "outputs": [
    {
     "data": {
      "text/plain": [
       "{'売上': [1, 2, 6], '従業員数': [1, 2, 6], '上場flg': [7]}"
      ]
     },
     "execution_count": 3,
     "metadata": {},
     "output_type": "execute_result"
    }
   ],
   "source": [
    "\"\"\"\n",
    "入力: (att_l, att_label_d)=([\"売上\",\"従業員数\",\"上場flg\"],{\"売上\":\"Quantitative\",\"上場flg\":\"Categorical\",...})\n",
    "出力: {\"売上\":[1,3,5],\"従業員数\":[1,3,5],\"上場flg\":[2]}\n",
    "\"\"\"\n",
    "def make_operation(att_l, att_label_d):\n",
    "    result_d = {}\n",
    "    operation_d = {1:\"合計値を計算(sum)\",2:\"平均値を計算(mean)\",3:\"最大値を計算(max)\",4:\"最小値を計算(min)\",5:\"中央値を計算(meadian)\",6:\"データ数をカウント(count)\",7:\"ユニークな値の数をカウント(nunique)\",8:\"ユニークな値を列挙(unique)\"}\n",
    "    for att_name in att_l:\n",
    "        instruction = f\"「{att_name}」属性に適応したい操作を以下から選択し、その数字をカンマ(,)区切りで入力してください\"\n",
    "        if(att_label_d[att_name]==\"Quantitative\"):\n",
    "            choices = \"\\n\".join([f\"{k}:{v}\" for k, v in operation_d.items() if(k<=6)])\n",
    "            user_choice = [int(n) for n in input(instruction+\"\\n\\n\"+choices+\"\\n\").split(\",\")]\n",
    "        else:\n",
    "            choices = \"\\n\".join([f\"{k}:{v}\" for k, v in operation_d.items() if(k>=6)])\n",
    "            user_choice = [int(n) for n in input(instruction+\"\\n\\n\"+choices+\"\\n\").split(\",\")]\n",
    "        result_d[att_name] = user_choice\n",
    "    return result_d\n",
    "make_operation(att_l=[\"売上\",\"従業員数\",\"上場flg\"],att_label_d={\"売上\":\"Quantitative\",\"従業員数\":\"Quantitative\",\"上場flg\":\"Categorical\"})"
   ]
  },
  {
   "cell_type": "code",
   "execution_count": 10,
   "metadata": {},
   "outputs": [
    {
     "data": {
      "text/plain": [
       "[[{'Shipping Address State': 'MA'}, 'Shipping Address State', 'MA']]"
      ]
     },
     "execution_count": 10,
     "metadata": {},
     "output_type": "execute_result"
    }
   ],
   "source": [
    "def make_subject(parents, drilldown_attribute, df, flg=True):\n",
    "    if(flg):\n",
    "        df = filter_df_by_parents(panrents=parents,df=df)\n",
    "    return [[parents, drilldown_attribute, value] for value in df[drilldown_attribute].unique()]\n",
    "\n",
    "make_subject(parents={\"Shipping Address State\":\"MA\"}, drilldown_attribute=\"Category\", df=df)"
   ]
  },
  {
   "cell_type": "code",
   "execution_count": 11,
   "metadata": {},
   "outputs": [
    {
     "data": {
      "text/plain": [
       "1"
      ]
     },
     "execution_count": 11,
     "metadata": {},
     "output_type": "execute_result"
    }
   ],
   "source": [
    "df = pd.read_csv(DATA_DIR/\"amazon-purchases.csv\")\n",
    "array = df[\"Shipping Address State\"].nunique(dropna=False)\n",
    "np.unique(array).size\n"
   ]
  },
  {
   "cell_type": "code",
   "execution_count": null,
   "metadata": {},
   "outputs": [],
   "source": []
  }
 ],
 "metadata": {
  "kernelspec": {
   "display_name": "venv_tdb",
   "language": "python",
   "name": "python3"
  },
  "language_info": {
   "codemirror_mode": {
    "name": "ipython",
    "version": 3
   },
   "file_extension": ".py",
   "mimetype": "text/x-python",
   "name": "python",
   "nbconvert_exporter": "python",
   "pygments_lexer": "ipython3",
   "version": "3.9.6"
  }
 },
 "nbformat": 4,
 "nbformat_minor": 2
}
